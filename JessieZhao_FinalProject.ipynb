{
  "nbformat": 4,
  "nbformat_minor": 0,
  "metadata": {
    "colab": {
      "provenance": []
    },
    "kernelspec": {
      "name": "python3",
      "display_name": "Python 3"
    },
    "language_info": {
      "name": "python"
    }
  },
  "cells": [
    {
      "cell_type": "markdown",
      "source": [
        "# Intro\n",
        "\n",
        "Task: Train classification models to determine the edibility of a dataset of mushrooms. The training set (primary_data) contains information about 173 species of mushrooms, such as cap diameter, color, habitat, etc, as well as a target class column denoting if it's edible. The test set (secondary_data), contains information on 61069 mushrooms based on these species. With this project, I will test several classification models, including Logistic Regression, Decision Trees, Random Forest, and K-Nearest Neighbors, which we have covered in class. I'd also like to incorporate Ridge Classifier, which is part of the scikit-learn library.\n",
        "\n",
        "Given the presence of categorical and numeric columns in the dataset, I'd use OHE and StandardScaler to preprocess the data, then train these models using the primary dataset with a pipeline. Then, I'd compare the precision of these models against the secondary set, and choose the one with the highest score.\n",
        "\n",
        "## Summary Findings\n",
        "Random Forest produced the best results with a precision score of .9967, meaning only .33% of positive predictions were false. It's important to have a high precision score because false positives could lead you to eat a mushroom when it's poisonous, which is costly (both in terms of health and hospital bills)."
      ],
      "metadata": {
        "id": "soDtwFgTtXiT"
      }
    },
    {
      "cell_type": "code",
      "source": [
        "import pandas as pd\n",
        "import numpy as np\n",
        "import matplotlib.pyplot as plt\n",
        "import seaborn as sns"
      ],
      "metadata": {
        "id": "zh91G6VByfOG"
      },
      "execution_count": 3,
      "outputs": []
    },
    {
      "cell_type": "code",
      "source": [
        "from sklearn.ensemble import RandomForestClassifier\n",
        "from sklearn.tree import DecisionTreeClassifier\n",
        "from sklearn.pipeline import Pipeline\n",
        "from sklearn.model_selection import train_test_split\n",
        "from sklearn.preprocessing import StandardScaler\n",
        "from sklearn.compose import make_column_transformer\n",
        "from sklearn.metrics import ConfusionMatrixDisplay, precision_score\n",
        "from sklearn.linear_model import LogisticRegression\n",
        "from sklearn.preprocessing import OneHotEncoder\n",
        "from sklearn.compose import ColumnTransformer\n",
        "from sklearn.neighbors import KNeighborsClassifier\n",
        "from sklearn.linear_model import RidgeClassifier\n",
        "from sklearn.model_selection import GridSearchCV\n",
        "from sklearn.metrics import classification_report\n",
        "from sklearn.preprocessing import LabelEncoder\n",
        "from sklearn.metrics import confusion_matrix"
      ],
      "metadata": {
        "id": "Avis_7YMQg_Z"
      },
      "execution_count": 2,
      "outputs": []
    },
    {
      "cell_type": "markdown",
      "source": [
        "# Data Source + Description:\n",
        "\n",
        "The dataset came from Kaggle: https://www.kaggle.com/datasets/uciml/mushroom-classification, thought it was originally taken from the UCI Machine Learning Repository."
      ],
      "metadata": {
        "id": "qb0AW_SGseaE"
      }
    },
    {
      "cell_type": "code",
      "execution_count": 4,
      "metadata": {
        "id": "Wj9306cAsgsg"
      },
      "outputs": [],
      "source": [
        "mushrooms = pd.read_csv('https://raw.githubusercontent.com/jess-iezhao/finalproject/refs/heads/main/mushrooms.csv', sep = ';')"
      ]
    },
    {
      "cell_type": "code",
      "source": [
        "mushrooms.head()"
      ],
      "metadata": {
        "id": "vBVg4_xvxCvY",
        "colab": {
          "base_uri": "https://localhost:8080/",
          "height": 307
        },
        "outputId": "5f65f1f3-91cf-4267-dbda-cee3a30e6255"
      },
      "execution_count": 5,
      "outputs": [
        {
          "output_type": "execute_result",
          "data": {
            "text/plain": [
              "  class  cap-diameter cap-shape cap-surface cap-color does-bruise-or-bleed  \\\n",
              "0     p         15.26         x           g         o                    f   \n",
              "1     p         16.60         x           g         o                    f   \n",
              "2     p         14.07         x           g         o                    f   \n",
              "3     p         14.17         f           h         e                    f   \n",
              "4     p         14.64         x           h         o                    f   \n",
              "\n",
              "  gill-attachment gill-spacing gill-color  stem-height  ...  stem-root  \\\n",
              "0               e          NaN          w        16.95  ...          s   \n",
              "1               e          NaN          w        17.99  ...          s   \n",
              "2               e          NaN          w        17.80  ...          s   \n",
              "3               e          NaN          w        15.77  ...          s   \n",
              "4               e          NaN          w        16.53  ...          s   \n",
              "\n",
              "  stem-surface stem-color veil-type veil-color has-ring ring-type  \\\n",
              "0            y          w         u          w        t         g   \n",
              "1            y          w         u          w        t         g   \n",
              "2            y          w         u          w        t         g   \n",
              "3            y          w         u          w        t         p   \n",
              "4            y          w         u          w        t         p   \n",
              "\n",
              "  spore-print-color habitat season  \n",
              "0               NaN       d      w  \n",
              "1               NaN       d      u  \n",
              "2               NaN       d      w  \n",
              "3               NaN       d      w  \n",
              "4               NaN       d      w  \n",
              "\n",
              "[5 rows x 21 columns]"
            ],
            "text/html": [
              "\n",
              "  <div id=\"df-c403373e-e43b-4a55-890d-07ba79dac506\" class=\"colab-df-container\">\n",
              "    <div>\n",
              "<style scoped>\n",
              "    .dataframe tbody tr th:only-of-type {\n",
              "        vertical-align: middle;\n",
              "    }\n",
              "\n",
              "    .dataframe tbody tr th {\n",
              "        vertical-align: top;\n",
              "    }\n",
              "\n",
              "    .dataframe thead th {\n",
              "        text-align: right;\n",
              "    }\n",
              "</style>\n",
              "<table border=\"1\" class=\"dataframe\">\n",
              "  <thead>\n",
              "    <tr style=\"text-align: right;\">\n",
              "      <th></th>\n",
              "      <th>class</th>\n",
              "      <th>cap-diameter</th>\n",
              "      <th>cap-shape</th>\n",
              "      <th>cap-surface</th>\n",
              "      <th>cap-color</th>\n",
              "      <th>does-bruise-or-bleed</th>\n",
              "      <th>gill-attachment</th>\n",
              "      <th>gill-spacing</th>\n",
              "      <th>gill-color</th>\n",
              "      <th>stem-height</th>\n",
              "      <th>...</th>\n",
              "      <th>stem-root</th>\n",
              "      <th>stem-surface</th>\n",
              "      <th>stem-color</th>\n",
              "      <th>veil-type</th>\n",
              "      <th>veil-color</th>\n",
              "      <th>has-ring</th>\n",
              "      <th>ring-type</th>\n",
              "      <th>spore-print-color</th>\n",
              "      <th>habitat</th>\n",
              "      <th>season</th>\n",
              "    </tr>\n",
              "  </thead>\n",
              "  <tbody>\n",
              "    <tr>\n",
              "      <th>0</th>\n",
              "      <td>p</td>\n",
              "      <td>15.26</td>\n",
              "      <td>x</td>\n",
              "      <td>g</td>\n",
              "      <td>o</td>\n",
              "      <td>f</td>\n",
              "      <td>e</td>\n",
              "      <td>NaN</td>\n",
              "      <td>w</td>\n",
              "      <td>16.95</td>\n",
              "      <td>...</td>\n",
              "      <td>s</td>\n",
              "      <td>y</td>\n",
              "      <td>w</td>\n",
              "      <td>u</td>\n",
              "      <td>w</td>\n",
              "      <td>t</td>\n",
              "      <td>g</td>\n",
              "      <td>NaN</td>\n",
              "      <td>d</td>\n",
              "      <td>w</td>\n",
              "    </tr>\n",
              "    <tr>\n",
              "      <th>1</th>\n",
              "      <td>p</td>\n",
              "      <td>16.60</td>\n",
              "      <td>x</td>\n",
              "      <td>g</td>\n",
              "      <td>o</td>\n",
              "      <td>f</td>\n",
              "      <td>e</td>\n",
              "      <td>NaN</td>\n",
              "      <td>w</td>\n",
              "      <td>17.99</td>\n",
              "      <td>...</td>\n",
              "      <td>s</td>\n",
              "      <td>y</td>\n",
              "      <td>w</td>\n",
              "      <td>u</td>\n",
              "      <td>w</td>\n",
              "      <td>t</td>\n",
              "      <td>g</td>\n",
              "      <td>NaN</td>\n",
              "      <td>d</td>\n",
              "      <td>u</td>\n",
              "    </tr>\n",
              "    <tr>\n",
              "      <th>2</th>\n",
              "      <td>p</td>\n",
              "      <td>14.07</td>\n",
              "      <td>x</td>\n",
              "      <td>g</td>\n",
              "      <td>o</td>\n",
              "      <td>f</td>\n",
              "      <td>e</td>\n",
              "      <td>NaN</td>\n",
              "      <td>w</td>\n",
              "      <td>17.80</td>\n",
              "      <td>...</td>\n",
              "      <td>s</td>\n",
              "      <td>y</td>\n",
              "      <td>w</td>\n",
              "      <td>u</td>\n",
              "      <td>w</td>\n",
              "      <td>t</td>\n",
              "      <td>g</td>\n",
              "      <td>NaN</td>\n",
              "      <td>d</td>\n",
              "      <td>w</td>\n",
              "    </tr>\n",
              "    <tr>\n",
              "      <th>3</th>\n",
              "      <td>p</td>\n",
              "      <td>14.17</td>\n",
              "      <td>f</td>\n",
              "      <td>h</td>\n",
              "      <td>e</td>\n",
              "      <td>f</td>\n",
              "      <td>e</td>\n",
              "      <td>NaN</td>\n",
              "      <td>w</td>\n",
              "      <td>15.77</td>\n",
              "      <td>...</td>\n",
              "      <td>s</td>\n",
              "      <td>y</td>\n",
              "      <td>w</td>\n",
              "      <td>u</td>\n",
              "      <td>w</td>\n",
              "      <td>t</td>\n",
              "      <td>p</td>\n",
              "      <td>NaN</td>\n",
              "      <td>d</td>\n",
              "      <td>w</td>\n",
              "    </tr>\n",
              "    <tr>\n",
              "      <th>4</th>\n",
              "      <td>p</td>\n",
              "      <td>14.64</td>\n",
              "      <td>x</td>\n",
              "      <td>h</td>\n",
              "      <td>o</td>\n",
              "      <td>f</td>\n",
              "      <td>e</td>\n",
              "      <td>NaN</td>\n",
              "      <td>w</td>\n",
              "      <td>16.53</td>\n",
              "      <td>...</td>\n",
              "      <td>s</td>\n",
              "      <td>y</td>\n",
              "      <td>w</td>\n",
              "      <td>u</td>\n",
              "      <td>w</td>\n",
              "      <td>t</td>\n",
              "      <td>p</td>\n",
              "      <td>NaN</td>\n",
              "      <td>d</td>\n",
              "      <td>w</td>\n",
              "    </tr>\n",
              "  </tbody>\n",
              "</table>\n",
              "<p>5 rows × 21 columns</p>\n",
              "</div>\n",
              "    <div class=\"colab-df-buttons\">\n",
              "\n",
              "  <div class=\"colab-df-container\">\n",
              "    <button class=\"colab-df-convert\" onclick=\"convertToInteractive('df-c403373e-e43b-4a55-890d-07ba79dac506')\"\n",
              "            title=\"Convert this dataframe to an interactive table.\"\n",
              "            style=\"display:none;\">\n",
              "\n",
              "  <svg xmlns=\"http://www.w3.org/2000/svg\" height=\"24px\" viewBox=\"0 -960 960 960\">\n",
              "    <path d=\"M120-120v-720h720v720H120Zm60-500h600v-160H180v160Zm220 220h160v-160H400v160Zm0 220h160v-160H400v160ZM180-400h160v-160H180v160Zm440 0h160v-160H620v160ZM180-180h160v-160H180v160Zm440 0h160v-160H620v160Z\"/>\n",
              "  </svg>\n",
              "    </button>\n",
              "\n",
              "  <style>\n",
              "    .colab-df-container {\n",
              "      display:flex;\n",
              "      gap: 12px;\n",
              "    }\n",
              "\n",
              "    .colab-df-convert {\n",
              "      background-color: #E8F0FE;\n",
              "      border: none;\n",
              "      border-radius: 50%;\n",
              "      cursor: pointer;\n",
              "      display: none;\n",
              "      fill: #1967D2;\n",
              "      height: 32px;\n",
              "      padding: 0 0 0 0;\n",
              "      width: 32px;\n",
              "    }\n",
              "\n",
              "    .colab-df-convert:hover {\n",
              "      background-color: #E2EBFA;\n",
              "      box-shadow: 0px 1px 2px rgba(60, 64, 67, 0.3), 0px 1px 3px 1px rgba(60, 64, 67, 0.15);\n",
              "      fill: #174EA6;\n",
              "    }\n",
              "\n",
              "    .colab-df-buttons div {\n",
              "      margin-bottom: 4px;\n",
              "    }\n",
              "\n",
              "    [theme=dark] .colab-df-convert {\n",
              "      background-color: #3B4455;\n",
              "      fill: #D2E3FC;\n",
              "    }\n",
              "\n",
              "    [theme=dark] .colab-df-convert:hover {\n",
              "      background-color: #434B5C;\n",
              "      box-shadow: 0px 1px 3px 1px rgba(0, 0, 0, 0.15);\n",
              "      filter: drop-shadow(0px 1px 2px rgba(0, 0, 0, 0.3));\n",
              "      fill: #FFFFFF;\n",
              "    }\n",
              "  </style>\n",
              "\n",
              "    <script>\n",
              "      const buttonEl =\n",
              "        document.querySelector('#df-c403373e-e43b-4a55-890d-07ba79dac506 button.colab-df-convert');\n",
              "      buttonEl.style.display =\n",
              "        google.colab.kernel.accessAllowed ? 'block' : 'none';\n",
              "\n",
              "      async function convertToInteractive(key) {\n",
              "        const element = document.querySelector('#df-c403373e-e43b-4a55-890d-07ba79dac506');\n",
              "        const dataTable =\n",
              "          await google.colab.kernel.invokeFunction('convertToInteractive',\n",
              "                                                    [key], {});\n",
              "        if (!dataTable) return;\n",
              "\n",
              "        const docLinkHtml = 'Like what you see? Visit the ' +\n",
              "          '<a target=\"_blank\" href=https://colab.research.google.com/notebooks/data_table.ipynb>data table notebook</a>'\n",
              "          + ' to learn more about interactive tables.';\n",
              "        element.innerHTML = '';\n",
              "        dataTable['output_type'] = 'display_data';\n",
              "        await google.colab.output.renderOutput(dataTable, element);\n",
              "        const docLink = document.createElement('div');\n",
              "        docLink.innerHTML = docLinkHtml;\n",
              "        element.appendChild(docLink);\n",
              "      }\n",
              "    </script>\n",
              "  </div>\n",
              "\n",
              "\n",
              "<div id=\"df-72ab586f-0c38-4977-9a8a-fe1579286be1\">\n",
              "  <button class=\"colab-df-quickchart\" onclick=\"quickchart('df-72ab586f-0c38-4977-9a8a-fe1579286be1')\"\n",
              "            title=\"Suggest charts\"\n",
              "            style=\"display:none;\">\n",
              "\n",
              "<svg xmlns=\"http://www.w3.org/2000/svg\" height=\"24px\"viewBox=\"0 0 24 24\"\n",
              "     width=\"24px\">\n",
              "    <g>\n",
              "        <path d=\"M19 3H5c-1.1 0-2 .9-2 2v14c0 1.1.9 2 2 2h14c1.1 0 2-.9 2-2V5c0-1.1-.9-2-2-2zM9 17H7v-7h2v7zm4 0h-2V7h2v10zm4 0h-2v-4h2v4z\"/>\n",
              "    </g>\n",
              "</svg>\n",
              "  </button>\n",
              "\n",
              "<style>\n",
              "  .colab-df-quickchart {\n",
              "      --bg-color: #E8F0FE;\n",
              "      --fill-color: #1967D2;\n",
              "      --hover-bg-color: #E2EBFA;\n",
              "      --hover-fill-color: #174EA6;\n",
              "      --disabled-fill-color: #AAA;\n",
              "      --disabled-bg-color: #DDD;\n",
              "  }\n",
              "\n",
              "  [theme=dark] .colab-df-quickchart {\n",
              "      --bg-color: #3B4455;\n",
              "      --fill-color: #D2E3FC;\n",
              "      --hover-bg-color: #434B5C;\n",
              "      --hover-fill-color: #FFFFFF;\n",
              "      --disabled-bg-color: #3B4455;\n",
              "      --disabled-fill-color: #666;\n",
              "  }\n",
              "\n",
              "  .colab-df-quickchart {\n",
              "    background-color: var(--bg-color);\n",
              "    border: none;\n",
              "    border-radius: 50%;\n",
              "    cursor: pointer;\n",
              "    display: none;\n",
              "    fill: var(--fill-color);\n",
              "    height: 32px;\n",
              "    padding: 0;\n",
              "    width: 32px;\n",
              "  }\n",
              "\n",
              "  .colab-df-quickchart:hover {\n",
              "    background-color: var(--hover-bg-color);\n",
              "    box-shadow: 0 1px 2px rgba(60, 64, 67, 0.3), 0 1px 3px 1px rgba(60, 64, 67, 0.15);\n",
              "    fill: var(--button-hover-fill-color);\n",
              "  }\n",
              "\n",
              "  .colab-df-quickchart-complete:disabled,\n",
              "  .colab-df-quickchart-complete:disabled:hover {\n",
              "    background-color: var(--disabled-bg-color);\n",
              "    fill: var(--disabled-fill-color);\n",
              "    box-shadow: none;\n",
              "  }\n",
              "\n",
              "  .colab-df-spinner {\n",
              "    border: 2px solid var(--fill-color);\n",
              "    border-color: transparent;\n",
              "    border-bottom-color: var(--fill-color);\n",
              "    animation:\n",
              "      spin 1s steps(1) infinite;\n",
              "  }\n",
              "\n",
              "  @keyframes spin {\n",
              "    0% {\n",
              "      border-color: transparent;\n",
              "      border-bottom-color: var(--fill-color);\n",
              "      border-left-color: var(--fill-color);\n",
              "    }\n",
              "    20% {\n",
              "      border-color: transparent;\n",
              "      border-left-color: var(--fill-color);\n",
              "      border-top-color: var(--fill-color);\n",
              "    }\n",
              "    30% {\n",
              "      border-color: transparent;\n",
              "      border-left-color: var(--fill-color);\n",
              "      border-top-color: var(--fill-color);\n",
              "      border-right-color: var(--fill-color);\n",
              "    }\n",
              "    40% {\n",
              "      border-color: transparent;\n",
              "      border-right-color: var(--fill-color);\n",
              "      border-top-color: var(--fill-color);\n",
              "    }\n",
              "    60% {\n",
              "      border-color: transparent;\n",
              "      border-right-color: var(--fill-color);\n",
              "    }\n",
              "    80% {\n",
              "      border-color: transparent;\n",
              "      border-right-color: var(--fill-color);\n",
              "      border-bottom-color: var(--fill-color);\n",
              "    }\n",
              "    90% {\n",
              "      border-color: transparent;\n",
              "      border-bottom-color: var(--fill-color);\n",
              "    }\n",
              "  }\n",
              "</style>\n",
              "\n",
              "  <script>\n",
              "    async function quickchart(key) {\n",
              "      const quickchartButtonEl =\n",
              "        document.querySelector('#' + key + ' button');\n",
              "      quickchartButtonEl.disabled = true;  // To prevent multiple clicks.\n",
              "      quickchartButtonEl.classList.add('colab-df-spinner');\n",
              "      try {\n",
              "        const charts = await google.colab.kernel.invokeFunction(\n",
              "            'suggestCharts', [key], {});\n",
              "      } catch (error) {\n",
              "        console.error('Error during call to suggestCharts:', error);\n",
              "      }\n",
              "      quickchartButtonEl.classList.remove('colab-df-spinner');\n",
              "      quickchartButtonEl.classList.add('colab-df-quickchart-complete');\n",
              "    }\n",
              "    (() => {\n",
              "      let quickchartButtonEl =\n",
              "        document.querySelector('#df-72ab586f-0c38-4977-9a8a-fe1579286be1 button');\n",
              "      quickchartButtonEl.style.display =\n",
              "        google.colab.kernel.accessAllowed ? 'block' : 'none';\n",
              "    })();\n",
              "  </script>\n",
              "</div>\n",
              "\n",
              "    </div>\n",
              "  </div>\n"
            ],
            "application/vnd.google.colaboratory.intrinsic+json": {
              "type": "dataframe",
              "variable_name": "mushrooms"
            }
          },
          "metadata": {},
          "execution_count": 5
        }
      ]
    },
    {
      "cell_type": "markdown",
      "source": [
        "This is a dataset of 61069 mushrooms with both numerical features (cap-diameter, stem-height, stem-width) and categorical (gill-color, has-ring, etc.) features. The target, 'class', is labeled either p for poisonous or e for edible. The goal of this project is to choose a classification model that will best predict whether a mushroom will be edible or not. I will be testing 5 models: logistic regression, decision tree, random forest, k-nearest neighbor, and ridge classifier."
      ],
      "metadata": {
        "id": "_SScUiHphCHp"
      }
    },
    {
      "cell_type": "code",
      "source": [
        "mushrooms.info()"
      ],
      "metadata": {
        "colab": {
          "base_uri": "https://localhost:8080/"
        },
        "id": "p4fh8CObxLZt",
        "outputId": "7c621391-4a73-4dae-8d6e-6208e69ff9fe"
      },
      "execution_count": 6,
      "outputs": [
        {
          "output_type": "stream",
          "name": "stdout",
          "text": [
            "<class 'pandas.core.frame.DataFrame'>\n",
            "RangeIndex: 61069 entries, 0 to 61068\n",
            "Data columns (total 21 columns):\n",
            " #   Column                Non-Null Count  Dtype  \n",
            "---  ------                --------------  -----  \n",
            " 0   class                 61069 non-null  object \n",
            " 1   cap-diameter          61069 non-null  float64\n",
            " 2   cap-shape             61069 non-null  object \n",
            " 3   cap-surface           46949 non-null  object \n",
            " 4   cap-color             61069 non-null  object \n",
            " 5   does-bruise-or-bleed  61069 non-null  object \n",
            " 6   gill-attachment       51185 non-null  object \n",
            " 7   gill-spacing          36006 non-null  object \n",
            " 8   gill-color            61069 non-null  object \n",
            " 9   stem-height           61069 non-null  float64\n",
            " 10  stem-width            61069 non-null  float64\n",
            " 11  stem-root             9531 non-null   object \n",
            " 12  stem-surface          22945 non-null  object \n",
            " 13  stem-color            61069 non-null  object \n",
            " 14  veil-type             3177 non-null   object \n",
            " 15  veil-color            7413 non-null   object \n",
            " 16  has-ring              61069 non-null  object \n",
            " 17  ring-type             58598 non-null  object \n",
            " 18  spore-print-color     6354 non-null   object \n",
            " 19  habitat               61069 non-null  object \n",
            " 20  season                61069 non-null  object \n",
            "dtypes: float64(3), object(18)\n",
            "memory usage: 9.8+ MB\n"
          ]
        }
      ]
    },
    {
      "cell_type": "code",
      "source": [
        "mushrooms.dropna(axis = 1, inplace = True) #drop all columns with null values"
      ],
      "metadata": {
        "id": "lwcmcCIh13gd"
      },
      "execution_count": 7,
      "outputs": []
    },
    {
      "cell_type": "markdown",
      "source": [
        "#Models + Implementation\n",
        "\n",
        "I will be cleaning the data by dropping null values, encoding 'p' or 'e' as 0 and 1, then applying standard scaler and OHE to numerical and categorical columns. Using this preprocessed data, I will run 80% of the dataset through the models (Logistic Regression, Ridge Classifier, Decision Trees, Random Forest, KNN) then test on the remainin 20% and find the precision scores."
      ],
      "metadata": {
        "id": "PNcI6JkBs-BS"
      }
    },
    {
      "cell_type": "markdown",
      "source": [
        "To ensure that future processing runs smoothly, I will drop all of the columns with null values. Furthermore, columns with too many null values are likely not strong indicators of whether or not a mushroom will be edible, anyways."
      ],
      "metadata": {
        "id": "Sp59rDFghux_"
      }
    },
    {
      "cell_type": "code",
      "source": [
        "mushrooms.head()\n",
        "mushrooms.info()"
      ],
      "metadata": {
        "colab": {
          "base_uri": "https://localhost:8080/"
        },
        "id": "gcRIBaQ38d69",
        "outputId": "da68c9f0-8e74-4926-bc1b-6e62f3e7a924"
      },
      "execution_count": 8,
      "outputs": [
        {
          "output_type": "stream",
          "name": "stdout",
          "text": [
            "<class 'pandas.core.frame.DataFrame'>\n",
            "RangeIndex: 61069 entries, 0 to 61068\n",
            "Data columns (total 12 columns):\n",
            " #   Column                Non-Null Count  Dtype  \n",
            "---  ------                --------------  -----  \n",
            " 0   class                 61069 non-null  object \n",
            " 1   cap-diameter          61069 non-null  float64\n",
            " 2   cap-shape             61069 non-null  object \n",
            " 3   cap-color             61069 non-null  object \n",
            " 4   does-bruise-or-bleed  61069 non-null  object \n",
            " 5   gill-color            61069 non-null  object \n",
            " 6   stem-height           61069 non-null  float64\n",
            " 7   stem-width            61069 non-null  float64\n",
            " 8   stem-color            61069 non-null  object \n",
            " 9   has-ring              61069 non-null  object \n",
            " 10  habitat               61069 non-null  object \n",
            " 11  season                61069 non-null  object \n",
            "dtypes: float64(3), object(9)\n",
            "memory usage: 5.6+ MB\n"
          ]
        }
      ]
    },
    {
      "cell_type": "markdown",
      "source": [
        "After removing null value columns, we are left with 10 features to model: cap-diameter, cap-shape, cap-color, does-bruise-or-bleed, gill-color, stem-height, stem-width, stem-color, has-ring, habitat, and season."
      ],
      "metadata": {
        "id": "BByMIdB_iKHy"
      }
    },
    {
      "cell_type": "code",
      "source": [
        "numeric_features = ['cap-diameter', 'stem-height', 'stem-width']\n",
        "categorical_features = ['cap-shape', 'cap-color', 'does-bruise-or-bleed', 'gill-color', 'stem-color', 'has-ring', 'habitat', 'season']"
      ],
      "metadata": {
        "id": "HAGA9LNCZALf"
      },
      "execution_count": 18,
      "outputs": []
    },
    {
      "cell_type": "code",
      "source": [
        "le = LabelEncoder()\n",
        "mushrooms['class'] = 1 - le.fit_transform(mushrooms['class'])\n",
        "\n",
        "mushrooms.head()\n",
        "\n",
        "#turn poisonous into 0 and edible into 1"
      ],
      "metadata": {
        "colab": {
          "base_uri": "https://localhost:8080/",
          "height": 223
        },
        "id": "a5gkQFkOCn6s",
        "outputId": "5e97dd53-4289-4801-9fb2-22958974cfb6"
      },
      "execution_count": 25,
      "outputs": [
        {
          "output_type": "execute_result",
          "data": {
            "text/plain": [
              "   class  cap-diameter cap-shape cap-color does-bruise-or-bleed gill-color  \\\n",
              "0      0         15.26         x         o                    f          w   \n",
              "1      0         16.60         x         o                    f          w   \n",
              "2      0         14.07         x         o                    f          w   \n",
              "3      0         14.17         f         e                    f          w   \n",
              "4      0         14.64         x         o                    f          w   \n",
              "\n",
              "   stem-height  stem-width stem-color has-ring habitat season  \n",
              "0        16.95       17.09          w        t       d      w  \n",
              "1        17.99       18.19          w        t       d      u  \n",
              "2        17.80       17.74          w        t       d      w  \n",
              "3        15.77       15.98          w        t       d      w  \n",
              "4        16.53       17.20          w        t       d      w  "
            ],
            "text/html": [
              "\n",
              "  <div id=\"df-c2b7dd86-95c8-4b51-a6f4-cf2fcdff47e6\" class=\"colab-df-container\">\n",
              "    <div>\n",
              "<style scoped>\n",
              "    .dataframe tbody tr th:only-of-type {\n",
              "        vertical-align: middle;\n",
              "    }\n",
              "\n",
              "    .dataframe tbody tr th {\n",
              "        vertical-align: top;\n",
              "    }\n",
              "\n",
              "    .dataframe thead th {\n",
              "        text-align: right;\n",
              "    }\n",
              "</style>\n",
              "<table border=\"1\" class=\"dataframe\">\n",
              "  <thead>\n",
              "    <tr style=\"text-align: right;\">\n",
              "      <th></th>\n",
              "      <th>class</th>\n",
              "      <th>cap-diameter</th>\n",
              "      <th>cap-shape</th>\n",
              "      <th>cap-color</th>\n",
              "      <th>does-bruise-or-bleed</th>\n",
              "      <th>gill-color</th>\n",
              "      <th>stem-height</th>\n",
              "      <th>stem-width</th>\n",
              "      <th>stem-color</th>\n",
              "      <th>has-ring</th>\n",
              "      <th>habitat</th>\n",
              "      <th>season</th>\n",
              "    </tr>\n",
              "  </thead>\n",
              "  <tbody>\n",
              "    <tr>\n",
              "      <th>0</th>\n",
              "      <td>0</td>\n",
              "      <td>15.26</td>\n",
              "      <td>x</td>\n",
              "      <td>o</td>\n",
              "      <td>f</td>\n",
              "      <td>w</td>\n",
              "      <td>16.95</td>\n",
              "      <td>17.09</td>\n",
              "      <td>w</td>\n",
              "      <td>t</td>\n",
              "      <td>d</td>\n",
              "      <td>w</td>\n",
              "    </tr>\n",
              "    <tr>\n",
              "      <th>1</th>\n",
              "      <td>0</td>\n",
              "      <td>16.60</td>\n",
              "      <td>x</td>\n",
              "      <td>o</td>\n",
              "      <td>f</td>\n",
              "      <td>w</td>\n",
              "      <td>17.99</td>\n",
              "      <td>18.19</td>\n",
              "      <td>w</td>\n",
              "      <td>t</td>\n",
              "      <td>d</td>\n",
              "      <td>u</td>\n",
              "    </tr>\n",
              "    <tr>\n",
              "      <th>2</th>\n",
              "      <td>0</td>\n",
              "      <td>14.07</td>\n",
              "      <td>x</td>\n",
              "      <td>o</td>\n",
              "      <td>f</td>\n",
              "      <td>w</td>\n",
              "      <td>17.80</td>\n",
              "      <td>17.74</td>\n",
              "      <td>w</td>\n",
              "      <td>t</td>\n",
              "      <td>d</td>\n",
              "      <td>w</td>\n",
              "    </tr>\n",
              "    <tr>\n",
              "      <th>3</th>\n",
              "      <td>0</td>\n",
              "      <td>14.17</td>\n",
              "      <td>f</td>\n",
              "      <td>e</td>\n",
              "      <td>f</td>\n",
              "      <td>w</td>\n",
              "      <td>15.77</td>\n",
              "      <td>15.98</td>\n",
              "      <td>w</td>\n",
              "      <td>t</td>\n",
              "      <td>d</td>\n",
              "      <td>w</td>\n",
              "    </tr>\n",
              "    <tr>\n",
              "      <th>4</th>\n",
              "      <td>0</td>\n",
              "      <td>14.64</td>\n",
              "      <td>x</td>\n",
              "      <td>o</td>\n",
              "      <td>f</td>\n",
              "      <td>w</td>\n",
              "      <td>16.53</td>\n",
              "      <td>17.20</td>\n",
              "      <td>w</td>\n",
              "      <td>t</td>\n",
              "      <td>d</td>\n",
              "      <td>w</td>\n",
              "    </tr>\n",
              "  </tbody>\n",
              "</table>\n",
              "</div>\n",
              "    <div class=\"colab-df-buttons\">\n",
              "\n",
              "  <div class=\"colab-df-container\">\n",
              "    <button class=\"colab-df-convert\" onclick=\"convertToInteractive('df-c2b7dd86-95c8-4b51-a6f4-cf2fcdff47e6')\"\n",
              "            title=\"Convert this dataframe to an interactive table.\"\n",
              "            style=\"display:none;\">\n",
              "\n",
              "  <svg xmlns=\"http://www.w3.org/2000/svg\" height=\"24px\" viewBox=\"0 -960 960 960\">\n",
              "    <path d=\"M120-120v-720h720v720H120Zm60-500h600v-160H180v160Zm220 220h160v-160H400v160Zm0 220h160v-160H400v160ZM180-400h160v-160H180v160Zm440 0h160v-160H620v160ZM180-180h160v-160H180v160Zm440 0h160v-160H620v160Z\"/>\n",
              "  </svg>\n",
              "    </button>\n",
              "\n",
              "  <style>\n",
              "    .colab-df-container {\n",
              "      display:flex;\n",
              "      gap: 12px;\n",
              "    }\n",
              "\n",
              "    .colab-df-convert {\n",
              "      background-color: #E8F0FE;\n",
              "      border: none;\n",
              "      border-radius: 50%;\n",
              "      cursor: pointer;\n",
              "      display: none;\n",
              "      fill: #1967D2;\n",
              "      height: 32px;\n",
              "      padding: 0 0 0 0;\n",
              "      width: 32px;\n",
              "    }\n",
              "\n",
              "    .colab-df-convert:hover {\n",
              "      background-color: #E2EBFA;\n",
              "      box-shadow: 0px 1px 2px rgba(60, 64, 67, 0.3), 0px 1px 3px 1px rgba(60, 64, 67, 0.15);\n",
              "      fill: #174EA6;\n",
              "    }\n",
              "\n",
              "    .colab-df-buttons div {\n",
              "      margin-bottom: 4px;\n",
              "    }\n",
              "\n",
              "    [theme=dark] .colab-df-convert {\n",
              "      background-color: #3B4455;\n",
              "      fill: #D2E3FC;\n",
              "    }\n",
              "\n",
              "    [theme=dark] .colab-df-convert:hover {\n",
              "      background-color: #434B5C;\n",
              "      box-shadow: 0px 1px 3px 1px rgba(0, 0, 0, 0.15);\n",
              "      filter: drop-shadow(0px 1px 2px rgba(0, 0, 0, 0.3));\n",
              "      fill: #FFFFFF;\n",
              "    }\n",
              "  </style>\n",
              "\n",
              "    <script>\n",
              "      const buttonEl =\n",
              "        document.querySelector('#df-c2b7dd86-95c8-4b51-a6f4-cf2fcdff47e6 button.colab-df-convert');\n",
              "      buttonEl.style.display =\n",
              "        google.colab.kernel.accessAllowed ? 'block' : 'none';\n",
              "\n",
              "      async function convertToInteractive(key) {\n",
              "        const element = document.querySelector('#df-c2b7dd86-95c8-4b51-a6f4-cf2fcdff47e6');\n",
              "        const dataTable =\n",
              "          await google.colab.kernel.invokeFunction('convertToInteractive',\n",
              "                                                    [key], {});\n",
              "        if (!dataTable) return;\n",
              "\n",
              "        const docLinkHtml = 'Like what you see? Visit the ' +\n",
              "          '<a target=\"_blank\" href=https://colab.research.google.com/notebooks/data_table.ipynb>data table notebook</a>'\n",
              "          + ' to learn more about interactive tables.';\n",
              "        element.innerHTML = '';\n",
              "        dataTable['output_type'] = 'display_data';\n",
              "        await google.colab.output.renderOutput(dataTable, element);\n",
              "        const docLink = document.createElement('div');\n",
              "        docLink.innerHTML = docLinkHtml;\n",
              "        element.appendChild(docLink);\n",
              "      }\n",
              "    </script>\n",
              "  </div>\n",
              "\n",
              "\n",
              "<div id=\"df-67c5c452-2747-4945-944a-67a279d32a5f\">\n",
              "  <button class=\"colab-df-quickchart\" onclick=\"quickchart('df-67c5c452-2747-4945-944a-67a279d32a5f')\"\n",
              "            title=\"Suggest charts\"\n",
              "            style=\"display:none;\">\n",
              "\n",
              "<svg xmlns=\"http://www.w3.org/2000/svg\" height=\"24px\"viewBox=\"0 0 24 24\"\n",
              "     width=\"24px\">\n",
              "    <g>\n",
              "        <path d=\"M19 3H5c-1.1 0-2 .9-2 2v14c0 1.1.9 2 2 2h14c1.1 0 2-.9 2-2V5c0-1.1-.9-2-2-2zM9 17H7v-7h2v7zm4 0h-2V7h2v10zm4 0h-2v-4h2v4z\"/>\n",
              "    </g>\n",
              "</svg>\n",
              "  </button>\n",
              "\n",
              "<style>\n",
              "  .colab-df-quickchart {\n",
              "      --bg-color: #E8F0FE;\n",
              "      --fill-color: #1967D2;\n",
              "      --hover-bg-color: #E2EBFA;\n",
              "      --hover-fill-color: #174EA6;\n",
              "      --disabled-fill-color: #AAA;\n",
              "      --disabled-bg-color: #DDD;\n",
              "  }\n",
              "\n",
              "  [theme=dark] .colab-df-quickchart {\n",
              "      --bg-color: #3B4455;\n",
              "      --fill-color: #D2E3FC;\n",
              "      --hover-bg-color: #434B5C;\n",
              "      --hover-fill-color: #FFFFFF;\n",
              "      --disabled-bg-color: #3B4455;\n",
              "      --disabled-fill-color: #666;\n",
              "  }\n",
              "\n",
              "  .colab-df-quickchart {\n",
              "    background-color: var(--bg-color);\n",
              "    border: none;\n",
              "    border-radius: 50%;\n",
              "    cursor: pointer;\n",
              "    display: none;\n",
              "    fill: var(--fill-color);\n",
              "    height: 32px;\n",
              "    padding: 0;\n",
              "    width: 32px;\n",
              "  }\n",
              "\n",
              "  .colab-df-quickchart:hover {\n",
              "    background-color: var(--hover-bg-color);\n",
              "    box-shadow: 0 1px 2px rgba(60, 64, 67, 0.3), 0 1px 3px 1px rgba(60, 64, 67, 0.15);\n",
              "    fill: var(--button-hover-fill-color);\n",
              "  }\n",
              "\n",
              "  .colab-df-quickchart-complete:disabled,\n",
              "  .colab-df-quickchart-complete:disabled:hover {\n",
              "    background-color: var(--disabled-bg-color);\n",
              "    fill: var(--disabled-fill-color);\n",
              "    box-shadow: none;\n",
              "  }\n",
              "\n",
              "  .colab-df-spinner {\n",
              "    border: 2px solid var(--fill-color);\n",
              "    border-color: transparent;\n",
              "    border-bottom-color: var(--fill-color);\n",
              "    animation:\n",
              "      spin 1s steps(1) infinite;\n",
              "  }\n",
              "\n",
              "  @keyframes spin {\n",
              "    0% {\n",
              "      border-color: transparent;\n",
              "      border-bottom-color: var(--fill-color);\n",
              "      border-left-color: var(--fill-color);\n",
              "    }\n",
              "    20% {\n",
              "      border-color: transparent;\n",
              "      border-left-color: var(--fill-color);\n",
              "      border-top-color: var(--fill-color);\n",
              "    }\n",
              "    30% {\n",
              "      border-color: transparent;\n",
              "      border-left-color: var(--fill-color);\n",
              "      border-top-color: var(--fill-color);\n",
              "      border-right-color: var(--fill-color);\n",
              "    }\n",
              "    40% {\n",
              "      border-color: transparent;\n",
              "      border-right-color: var(--fill-color);\n",
              "      border-top-color: var(--fill-color);\n",
              "    }\n",
              "    60% {\n",
              "      border-color: transparent;\n",
              "      border-right-color: var(--fill-color);\n",
              "    }\n",
              "    80% {\n",
              "      border-color: transparent;\n",
              "      border-right-color: var(--fill-color);\n",
              "      border-bottom-color: var(--fill-color);\n",
              "    }\n",
              "    90% {\n",
              "      border-color: transparent;\n",
              "      border-bottom-color: var(--fill-color);\n",
              "    }\n",
              "  }\n",
              "</style>\n",
              "\n",
              "  <script>\n",
              "    async function quickchart(key) {\n",
              "      const quickchartButtonEl =\n",
              "        document.querySelector('#' + key + ' button');\n",
              "      quickchartButtonEl.disabled = true;  // To prevent multiple clicks.\n",
              "      quickchartButtonEl.classList.add('colab-df-spinner');\n",
              "      try {\n",
              "        const charts = await google.colab.kernel.invokeFunction(\n",
              "            'suggestCharts', [key], {});\n",
              "      } catch (error) {\n",
              "        console.error('Error during call to suggestCharts:', error);\n",
              "      }\n",
              "      quickchartButtonEl.classList.remove('colab-df-spinner');\n",
              "      quickchartButtonEl.classList.add('colab-df-quickchart-complete');\n",
              "    }\n",
              "    (() => {\n",
              "      let quickchartButtonEl =\n",
              "        document.querySelector('#df-67c5c452-2747-4945-944a-67a279d32a5f button');\n",
              "      quickchartButtonEl.style.display =\n",
              "        google.colab.kernel.accessAllowed ? 'block' : 'none';\n",
              "    })();\n",
              "  </script>\n",
              "</div>\n",
              "\n",
              "    </div>\n",
              "  </div>\n"
            ],
            "application/vnd.google.colaboratory.intrinsic+json": {
              "type": "dataframe",
              "summary": "{\n  \"name\": \"#turn poisonous into 0 and edible into 1\",\n  \"rows\": 5,\n  \"fields\": [\n    {\n      \"column\": \"class\",\n      \"properties\": {\n        \"dtype\": \"number\",\n        \"std\": 0,\n        \"min\": 0,\n        \"max\": 0,\n        \"num_unique_values\": 1,\n        \"samples\": [\n          0\n        ],\n        \"semantic_type\": \"\",\n        \"description\": \"\"\n      }\n    },\n    {\n      \"column\": \"cap-diameter\",\n      \"properties\": {\n        \"dtype\": \"number\",\n        \"std\": 1.0365182101632373,\n        \"min\": 14.07,\n        \"max\": 16.6,\n        \"num_unique_values\": 5,\n        \"samples\": [\n          16.6\n        ],\n        \"semantic_type\": \"\",\n        \"description\": \"\"\n      }\n    },\n    {\n      \"column\": \"cap-shape\",\n      \"properties\": {\n        \"dtype\": \"category\",\n        \"num_unique_values\": 2,\n        \"samples\": [\n          \"f\"\n        ],\n        \"semantic_type\": \"\",\n        \"description\": \"\"\n      }\n    },\n    {\n      \"column\": \"cap-color\",\n      \"properties\": {\n        \"dtype\": \"category\",\n        \"num_unique_values\": 2,\n        \"samples\": [\n          \"e\"\n        ],\n        \"semantic_type\": \"\",\n        \"description\": \"\"\n      }\n    },\n    {\n      \"column\": \"does-bruise-or-bleed\",\n      \"properties\": {\n        \"dtype\": \"category\",\n        \"num_unique_values\": 1,\n        \"samples\": [\n          \"f\"\n        ],\n        \"semantic_type\": \"\",\n        \"description\": \"\"\n      }\n    },\n    {\n      \"column\": \"gill-color\",\n      \"properties\": {\n        \"dtype\": \"category\",\n        \"num_unique_values\": 1,\n        \"samples\": [\n          \"w\"\n        ],\n        \"semantic_type\": \"\",\n        \"description\": \"\"\n      }\n    },\n    {\n      \"column\": \"stem-height\",\n      \"properties\": {\n        \"dtype\": \"number\",\n        \"std\": 0.9159803491341937,\n        \"min\": 15.77,\n        \"max\": 17.99,\n        \"num_unique_values\": 5,\n        \"samples\": [\n          17.99\n        ],\n        \"semantic_type\": \"\",\n        \"description\": \"\"\n      }\n    },\n    {\n      \"column\": \"stem-width\",\n      \"properties\": {\n        \"dtype\": \"number\",\n        \"std\": 0.8312941717587102,\n        \"min\": 15.98,\n        \"max\": 18.19,\n        \"num_unique_values\": 5,\n        \"samples\": [\n          18.19\n        ],\n        \"semantic_type\": \"\",\n        \"description\": \"\"\n      }\n    },\n    {\n      \"column\": \"stem-color\",\n      \"properties\": {\n        \"dtype\": \"category\",\n        \"num_unique_values\": 1,\n        \"samples\": [\n          \"w\"\n        ],\n        \"semantic_type\": \"\",\n        \"description\": \"\"\n      }\n    },\n    {\n      \"column\": \"has-ring\",\n      \"properties\": {\n        \"dtype\": \"category\",\n        \"num_unique_values\": 1,\n        \"samples\": [\n          \"t\"\n        ],\n        \"semantic_type\": \"\",\n        \"description\": \"\"\n      }\n    },\n    {\n      \"column\": \"habitat\",\n      \"properties\": {\n        \"dtype\": \"category\",\n        \"num_unique_values\": 1,\n        \"samples\": [\n          \"d\"\n        ],\n        \"semantic_type\": \"\",\n        \"description\": \"\"\n      }\n    },\n    {\n      \"column\": \"season\",\n      \"properties\": {\n        \"dtype\": \"category\",\n        \"num_unique_values\": 2,\n        \"samples\": [\n          \"u\"\n        ],\n        \"semantic_type\": \"\",\n        \"description\": \"\"\n      }\n    }\n  ]\n}"
            }
          },
          "metadata": {},
          "execution_count": 25
        }
      ]
    },
    {
      "cell_type": "markdown",
      "source": [
        "The target column came with 'p' or 'e' as a label, but some classifier models need a binary 0 or 1. I imported LabelEncoder to turn these 'p' and 'e' into 0 and 1, respectively.\n",
        "\n",
        "# 1 = edible\n",
        "# 0 = poisonous"
      ],
      "metadata": {
        "id": "uL_KRYLTimH-"
      }
    },
    {
      "cell_type": "code",
      "source": [
        "for col in categorical_features:\n",
        "    print(f\"Value counts for column '{col}':\")\n",
        "    print(mushrooms[col].value_counts())\n",
        "    print()"
      ],
      "metadata": {
        "colab": {
          "base_uri": "https://localhost:8080/"
        },
        "id": "ESMOOmkEYsjm",
        "outputId": "56c01512-4e57-4a65-d5ac-c3f5ca5f88de"
      },
      "execution_count": 23,
      "outputs": [
        {
          "output_type": "stream",
          "name": "stdout",
          "text": [
            "Value counts for column 'cap-shape':\n",
            "cap-shape\n",
            "x    26934\n",
            "f    13404\n",
            "s     7164\n",
            "b     5694\n",
            "o     3460\n",
            "p     2598\n",
            "c     1815\n",
            "Name: count, dtype: int64\n",
            "\n",
            "Value counts for column 'cap-color':\n",
            "cap-color\n",
            "n    24218\n",
            "y     8543\n",
            "w     7666\n",
            "g     4420\n",
            "e     4035\n",
            "o     3656\n",
            "r     1782\n",
            "u     1709\n",
            "p     1703\n",
            "k     1279\n",
            "b     1230\n",
            "l      828\n",
            "Name: count, dtype: int64\n",
            "\n",
            "Value counts for column 'does-bruise-or-bleed':\n",
            "does-bruise-or-bleed\n",
            "f    50479\n",
            "t    10590\n",
            "Name: count, dtype: int64\n",
            "\n",
            "Value counts for column 'gill-color':\n",
            "gill-color\n",
            "w    18521\n",
            "n     9645\n",
            "y     9546\n",
            "p     5983\n",
            "g     4118\n",
            "f     3530\n",
            "o     2909\n",
            "k     2375\n",
            "r     1399\n",
            "e     1066\n",
            "u     1023\n",
            "b      954\n",
            "Name: count, dtype: int64\n",
            "\n",
            "Value counts for column 'stem-color':\n",
            "stem-color\n",
            "w    22926\n",
            "n    18063\n",
            "y     7865\n",
            "g     2626\n",
            "o     2187\n",
            "e     2050\n",
            "u     1490\n",
            "f     1059\n",
            "p     1025\n",
            "k      837\n",
            "r      542\n",
            "l      226\n",
            "b      173\n",
            "Name: count, dtype: int64\n",
            "\n",
            "Value counts for column 'has-ring':\n",
            "has-ring\n",
            "f    45890\n",
            "t    15179\n",
            "Name: count, dtype: int64\n",
            "\n",
            "Value counts for column 'habitat':\n",
            "habitat\n",
            "d    44209\n",
            "g     7943\n",
            "l     3168\n",
            "m     2920\n",
            "h     2001\n",
            "p      360\n",
            "w      353\n",
            "u      115\n",
            "Name: count, dtype: int64\n",
            "\n",
            "Value counts for column 'season':\n",
            "season\n",
            "a    30177\n",
            "u    22898\n",
            "w     5267\n",
            "s     2727\n",
            "Name: count, dtype: int64\n",
            "\n"
          ]
        }
      ]
    },
    {
      "cell_type": "code",
      "source": [
        "fig, ax = plt.subplots(1, 3, figsize=(15, 5))\n",
        "\n",
        "sns.histplot(data = mushrooms, x = 'cap-diameter', ax = ax[0], color = 'red')\n",
        "ax[0].set_title('Cap Diameter Distribution')\n",
        "ax[0].set_xlabel('Cap Diameter')\n",
        "ax[0].set_ylabel('Count')\n",
        "\n",
        "sns.histplot(data = mushrooms, x = 'stem-height', ax = ax[1], color = 'green')\n",
        "ax[1].set_title('Stem Height Distribution')\n",
        "ax[1].set_xlabel('Stem Height')\n",
        "ax[1].set_ylabel('Count')\n",
        "\n",
        "sns.histplot(data = mushrooms, x = 'stem-width', ax = ax[2])\n",
        "ax[2].set_title('Stem Width Distribution')\n",
        "ax[2].set_xlabel('Stem Width')\n",
        "ax[2].set_ylabel('Count')\n",
        "\n",
        "plt.tight_layout()\n",
        "plt.show()\n",
        "\n",
        "#observing column distributions"
      ],
      "metadata": {
        "colab": {
          "base_uri": "https://localhost:8080/",
          "height": 404
        },
        "id": "K24Bkt2SF1n9",
        "outputId": "e3174c52-3634-40a2-c240-1895046261f4"
      },
      "execution_count": 11,
      "outputs": [
        {
          "output_type": "display_data",
          "data": {
            "text/plain": [
              "<Figure size 1500x500 with 3 Axes>"
            ],
            "image/png": "[encoded data removed]"
          },
          "metadata": {}
        }
      ]
    },
    {
      "cell_type": "markdown",
      "source": [
        "Next, I wanted to take a closer look at the numeric features. All 3 show a slight right skew, with Stem Heights having a large cluster at 0 as well. Because they are not normally distributed or on the same scale, I'll want to apply StandardScaler later to ensure that they are contributing equally to the model."
      ],
      "metadata": {
        "id": "WWZ6HKjLjsWZ"
      }
    },
    {
      "cell_type": "code",
      "source": [
        "X = mushrooms.drop('class', axis = 1)\n",
        "y = mushrooms['class'] #set X and y"
      ],
      "metadata": {
        "id": "N-0ABlnoQkX9"
      },
      "execution_count": 26,
      "outputs": []
    },
    {
      "cell_type": "code",
      "source": [
        "X_train, X_test, y_train, y_test = train_test_split(X, y, test_size=0.2)"
      ],
      "metadata": {
        "id": "-x1Hd6IERmnQ"
      },
      "execution_count": 27,
      "outputs": []
    },
    {
      "cell_type": "markdown",
      "source": [
        "I used 80% of the data to train the models, then left the remaining 20% to test."
      ],
      "metadata": {
        "id": "HO5lvBZxkVw-"
      }
    },
    {
      "cell_type": "code",
      "source": [
        "\n",
        "\n",
        "preprocessor = ColumnTransformer(\n",
        "    transformers=[\n",
        "        ('num', StandardScaler(), numeric_features),\n",
        "        ('cat', OneHotEncoder(handle_unknown='ignore'), categorical_features)\n",
        "    ])"
      ],
      "metadata": {
        "id": "EEhUDDFgR4X3"
      },
      "execution_count": 28,
      "outputs": []
    },
    {
      "cell_type": "markdown",
      "source": [
        "Because there were categorical features, I imported and applied OneHotEncoder to ensure compatibility with the classification models."
      ],
      "metadata": {
        "id": "0hYSlRxOkhs1"
      }
    },
    {
      "cell_type": "code",
      "source": [
        "logistic_pipe = Pipeline([\n",
        "    ('preprocessor', preprocessor),\n",
        "    ('classifier', LogisticRegression()),\n",
        "])\n",
        "\n",
        "forest_pipe = Pipeline([\n",
        "    ('preprocessor', preprocessor),\n",
        "    ('classifier', RandomForestClassifier()),\n",
        "])\n",
        "\n",
        "tree_pipe = Pipeline([\n",
        "    ('preprocessor', preprocessor),\n",
        "    ('classifier', DecisionTreeClassifier()),\n",
        "])\n",
        "\n",
        "KNN_pipe = Pipeline([\n",
        "    ('preprocessor', preprocessor),\n",
        "    ('classifier', KNeighborsClassifier()),\n",
        "])\n",
        "\n",
        "ridge_pipe = Pipeline([\n",
        "    ('preprocessor', preprocessor),\n",
        "    ('classifier', RidgeClassifier()),\n",
        "])"
      ],
      "metadata": {
        "id": "qHqtYuf5W3IJ"
      },
      "execution_count": 29,
      "outputs": []
    },
    {
      "cell_type": "markdown",
      "source": [
        "Using the preprocessor including StandardScaler and OHE, I created pipelines for each of the 5 models I wanted to test. Next, I'll find the precision scores of each model on the remaining 20% of the data, and select the ones with the highest scores."
      ],
      "metadata": {
        "id": "gCR-AjTBkpqp"
      }
    },
    {
      "cell_type": "code",
      "source": [
        "ridge_pipe.fit(X_train, y_train)\n",
        "y_pred_ridge = ridge_pipe.predict(X_test)\n",
        "ridge_precision = precision_score(y_test, y_pred_ridge)\n",
        "print(f'Ridge Classifier Precision: {ridge_precision}')"
      ],
      "metadata": {
        "colab": {
          "base_uri": "https://localhost:8080/"
        },
        "id": "_WKv6E1sW_2K",
        "outputId": "4ef51ac2-1ff3-4276-e6ad-8c755da6337a"
      },
      "execution_count": 30,
      "outputs": [
        {
          "output_type": "stream",
          "name": "stdout",
          "text": [
            "Ridge Classifier Precision: 0.7141478479058097\n"
          ]
        }
      ]
    },
    {
      "cell_type": "code",
      "source": [
        "param_grid_ridge = {\n",
        "    'classifier__alpha': [0.1, 1, 10, 100],\n",
        "    'classifier__solver': ['auto', 'sag', 'lsqr']\n",
        "}\n",
        "\n",
        "grid_search = GridSearchCV(ridge_pipe, param_grid_ridge, cv=5, scoring = 'precision')\n",
        "grid_search.fit(X_train, y_train)\n",
        "\n",
        "best_ridge_pipe = grid_search.best_estimator_\n",
        "\n",
        "y_pred_ridge_tuned = best_ridge_pipe.predict(X_test)\n",
        "ridge_precision_tuned = precision_score(y_test, y_pred_ridge_tuned)\n",
        "print(f'Ridge Classifier Precision after Parameter Tuning: {ridge_precision_tuned}')"
      ],
      "metadata": {
        "colab": {
          "base_uri": "https://localhost:8080/"
        },
        "id": "dMsFMZe-ddcj",
        "outputId": "59cc8c5e-e320-4442-fbff-7ebe52cb0302"
      },
      "execution_count": 33,
      "outputs": [
        {
          "output_type": "stream",
          "name": "stdout",
          "text": [
            "Ridge Classifier Precision after Parameter Tuning: 0.713258164852255\n"
          ]
        }
      ]
    },
    {
      "cell_type": "markdown",
      "source": [
        "After applying GridSearch, the precision score actually decreased. This could be a sign of overfitting, and the original model seems adequate. Let's compare this Ridge Classifier with the others."
      ],
      "metadata": {
        "id": "X1wXl1ZOl3xa"
      }
    },
    {
      "cell_type": "code",
      "source": [
        "logistic_pipe.fit(X_train, y_train)\n",
        "y_pred_logistic = logistic_pipe.predict(X_test)\n",
        "logistic_precision = precision_score(y_test, y_pred_logistic)\n",
        "print(f'Logistic Regression Precision: {logistic_precision}')"
      ],
      "metadata": {
        "colab": {
          "base_uri": "https://localhost:8080/"
        },
        "id": "-yvs4CAdXaza",
        "outputId": "0a098da1-a55f-44e0-85b8-ad7575279627"
      },
      "execution_count": 37,
      "outputs": [
        {
          "output_type": "stream",
          "name": "stdout",
          "text": [
            "Logistic Regression Precision: 0.7106472615855994\n"
          ]
        }
      ]
    },
    {
      "cell_type": "code",
      "source": [
        "param_grid_logistic = {\n",
        "    'classifier__C': [0.01, 0.1, 1, 10],  # Regularization strength\n",
        "    'classifier__solver': ['liblinear', 'lbfgs'], # Solvers supported by Logistic Regression\n",
        "    'classifier__max_iter': [100, 500]\n",
        "}\n",
        "\n",
        "grid_search = GridSearchCV(logistic_pipe, param_grid_logistic, cv=5, scoring = 'precision')\n",
        "grid_search.fit(X_train, y_train)\n",
        "\n",
        "best_logistic_pipe = grid_search.best_estimator_\n",
        "\n",
        "y_pred_logistic_tuned = best_logistic_pipe.predict(X_test)\n",
        "logistic_precision_tuned = precision_score(y_test, y_pred_logistic_tuned)\n",
        "print(logistic_precision_tuned)\n"
      ],
      "metadata": {
        "colab": {
          "base_uri": "https://localhost:8080/"
        },
        "id": "ORfEZ_9UD-Kn",
        "outputId": "d4fa2a01-eaf3-441c-8719-eef45a67c29c"
      },
      "execution_count": 38,
      "outputs": [
        {
          "output_type": "stream",
          "name": "stdout",
          "text": [
            "0.7188\n"
          ]
        }
      ]
    },
    {
      "cell_type": "markdown",
      "source": [
        "Applying Grid Search to Logistic Regression slightly increased the precision score, but not but a significant amount either."
      ],
      "metadata": {
        "id": "XhS9g_3KmMGV"
      }
    },
    {
      "cell_type": "code",
      "source": [
        "forest_pipe.fit(X_train, y_train)\n",
        "y_pred_forest = forest_pipe.predict(X_test)\n",
        "forest_precision = precision_score(y_test, y_pred_forest)\n",
        "print(f'Random Forest Precision: {forest_precision}')"
      ],
      "metadata": {
        "colab": {
          "base_uri": "https://localhost:8080/"
        },
        "id": "xFBeNQBaXa2m",
        "outputId": "c3f1035e-9266-4e13-d4ca-2552135d5b1f"
      },
      "execution_count": 41,
      "outputs": [
        {
          "output_type": "stream",
          "name": "stdout",
          "text": [
            "Random Forest Precision: 0.99674914213473\n"
          ]
        }
      ]
    },
    {
      "cell_type": "code",
      "source": [
        "param_grid_forest = {\n",
        "    'classifier__n_estimators': [1, 10, 20],  # Number of trees in the forest\n",
        "    'classifier__max_depth': [None, 10, 20],    # Maximum depth of the trees\n",
        "}\n",
        "\n",
        "grid_search = GridSearchCV(forest_pipe, param_grid_forest, cv=5, scoring = 'precision')\n",
        "grid_search.fit(X_train, y_train)\n",
        "\n",
        "best_forest_pipe = grid_search.best_estimator_\n",
        "\n",
        "y_pred_forest_tuned = best_forest_pipe.predict(X_test)\n",
        "forest_precision_tuned = precision_score(y_test, y_pred_forest_tuned)\n",
        "print(f'Random Forest Precision after Tuning: {forest_precision_tuned}')"
      ],
      "metadata": {
        "colab": {
          "base_uri": "https://localhost:8080/"
        },
        "id": "swf_zdZeHB3D",
        "outputId": "1d4e84b0-8703-432c-846f-baaaa556b333"
      },
      "execution_count": 34,
      "outputs": [
        {
          "output_type": "stream",
          "name": "stdout",
          "text": [
            "Random Forest Precision after Tuning: 0.9967385395905055\n"
          ]
        }
      ]
    },
    {
      "cell_type": "code",
      "source": [
        "tree_pipe.fit(X_train, y_train)\n",
        "y_pred_tree = tree_pipe.predict(X_test)\n",
        "tree_precision = precision_score(y_test, y_pred_tree)\n",
        "print(f'Decision Tree Precision: {tree_precision}')"
      ],
      "metadata": {
        "colab": {
          "base_uri": "https://localhost:8080/"
        },
        "id": "soFGOUvjYcMd",
        "outputId": "e5420153-a594-400f-ab9f-4406fb70e965"
      },
      "execution_count": 42,
      "outputs": [
        {
          "output_type": "stream",
          "name": "stdout",
          "text": [
            "Decision Tree Precision: 0.9886117136659436\n"
          ]
        }
      ]
    },
    {
      "cell_type": "code",
      "source": [
        "param_grid_tree = {\n",
        "    'classifier__max_depth': [None, 10, 20],     # Maximum depth of the tree\n",
        "    'classifier__criterion': ['gini', 'entropy']    # Split criterion\n",
        "}\n",
        "\n",
        "grid_search = GridSearchCV(tree_pipe, param_grid_tree, cv=5, scoring = 'precision')\n",
        "grid_search.fit(X_train, y_train)\n",
        "\n",
        "best_tree_pipe = grid_search.best_estimator_\n",
        "\n",
        "y_pred_tree_tuned = best_tree_pipe.predict(X_test)\n",
        "tree_precision_tuned = precision_score(y_test, y_pred_tree_tuned)\n",
        "print(tree_precision_tuned)\n",
        "\n"
      ],
      "metadata": {
        "colab": {
          "base_uri": "https://localhost:8080/"
        },
        "id": "ZtL2ir1kHimr",
        "outputId": "2a4d8120-903e-4256-851b-a468e88509e9"
      },
      "execution_count": 43,
      "outputs": [
        {
          "output_type": "stream",
          "name": "stdout",
          "text": [
            "0.9907742402315485\n"
          ]
        }
      ]
    },
    {
      "cell_type": "markdown",
      "source": [
        "Similarly, grid searching random forest and decision trees didn't improve the precision score. A note--I did reduce the number of parameters to search because it was taking a while to load on my computer. Perhaps there were parameters I didn't search that could have optimized my models further, but I lacked the computing power to run the code."
      ],
      "metadata": {
        "id": "sG1X2foemdm9"
      }
    },
    {
      "cell_type": "code",
      "source": [
        "KNN_pipe.fit(X_train, y_train)\n",
        "y_pred_KNN = KNN_pipe.predict(X_test)\n",
        "KNN_precision = precision_score(y_test, y_pred_KNN)\n",
        "print(f'K-Nearest Neighbors Precision: {KNN_precision}')"
      ],
      "metadata": {
        "colab": {
          "base_uri": "https://localhost:8080/"
        },
        "id": "Z-2eFfaaXeHJ",
        "outputId": "62e4ceaf-4be3-427c-db7d-d06be68e9434"
      },
      "execution_count": 44,
      "outputs": [
        {
          "output_type": "stream",
          "name": "stdout",
          "text": [
            "K-Nearest Neighbors Precision: 0.9962039045553145\n"
          ]
        }
      ]
    },
    {
      "cell_type": "markdown",
      "source": [
        "The KNN Model had a very high precision score, similar to Random Forest and Decision Tree, so I did not run the Grid Search here."
      ],
      "metadata": {
        "id": "2wr8N2nlnJS3"
      }
    },
    {
      "cell_type": "code",
      "source": [
        "print(classification_report(y_test, y_pred_logistic))"
      ],
      "metadata": {
        "colab": {
          "base_uri": "https://localhost:8080/"
        },
        "id": "-gcsqtj9Ie5J",
        "outputId": "20436a16-cfca-4e66-aaa9-932c954fbae9"
      },
      "execution_count": 45,
      "outputs": [
        {
          "output_type": "stream",
          "name": "stdout",
          "text": [
            "              precision    recall  f1-score   support\n",
            "\n",
            "           0       0.74      0.77      0.76      6674\n",
            "           1       0.71      0.67      0.69      5540\n",
            "\n",
            "    accuracy                           0.73     12214\n",
            "   macro avg       0.72      0.72      0.72     12214\n",
            "weighted avg       0.73      0.73      0.73     12214\n",
            "\n"
          ]
        }
      ]
    },
    {
      "cell_type": "code",
      "source": [
        "logistic_cmat = confusion_matrix(y_test, y_pred_logistic_tuned)\n",
        "forest_cmat = confusion_matrix(y_test, y_pred_forest)\n",
        "tree_cmat = confusion_matrix(y_test, y_pred_tree)\n",
        "KNN_cmat = confusion_matrix(y_test, y_pred_KNN)\n",
        "ridge_cmat = confusion_matrix(y_test, y_pred_ridge_tuned)\n",
        "\n",
        "fig, ax = plt.subplots(1,5, figsize = (25,5))\n",
        "\n",
        "ConfusionMatrixDisplay(logistic_cmat, display_labels = ['No', 'Yes']).plot(ax = ax[0])\n",
        "ax[0].set_title('Logistic Regression')\n",
        "\n",
        "ConfusionMatrixDisplay(forest_cmat, display_labels = ['No', 'Yes']).plot(ax = ax[1])\n",
        "ax[1].set_title('Random Forest')\n",
        "\n",
        "ConfusionMatrixDisplay(tree_cmat, display_labels = ['No', 'Yes']).plot(ax = ax[2])\n",
        "ax[2].set_title('Decision Tree')\n",
        "\n",
        "ConfusionMatrixDisplay(KNN_cmat, display_labels = ['No', 'Yes']).plot(ax = ax[3])\n",
        "ax[3].set_title('K-Nearest Neighbors')\n",
        "\n",
        "ConfusionMatrixDisplay(ridge_cmat, display_labels = ['No', 'Yes']).plot(ax = ax[4])\n",
        "ax[4].set_title('Ridge Classifier')\n",
        "\n",
        "#random forest seems best, followed by KNN then decision trees"
      ],
      "metadata": {
        "colab": {
          "base_uri": "https://localhost:8080/",
          "height": 273
        },
        "id": "3gQBziujJAjk",
        "outputId": "185faa80-4a2c-4d90-b25f-e72cc3638059"
      },
      "execution_count": 46,
      "outputs": [
        {
          "output_type": "execute_result",
          "data": {
            "text/plain": [
              "Text(0.5, 1.0, 'Ridge Classifier')"
            ]
          },
          "metadata": {},
          "execution_count": 46
        },
        {
          "output_type": "display_data",
          "data": {
            "text/plain": [
              "<Figure size 2500x500 with 10 Axes>"
            ],
            "image/png": "[encoded data removed]"
          },
          "metadata": {}
        }
      ]
    },
    {
      "cell_type": "markdown",
      "source": [
        "#Results and Next Steps\n",
        "From the confusion matrices, it seems like Random Forest was the most precise, followed by KNN and then Decision Trees. This ranking was established based on how many true positives and true negatives each model was able to identify on the remaining 20% of the dataset. Ridge Classifier and Logistic Regression have quite a few errors (Predicted Label differes from True Label).\n",
        "\n",
        "As for Next Steps, I'd like to run Grid Searches with expanded parameters on Logistic Regression and Ridge Classifier, as they have relatively lower precision scores (~.70 vs. >.99). It would also be interesting to compare with different performance metrics; I chose precision because a false positive (mushroom labeled edible but is actually not) would be very costly, but it may be interesting to see if other metrics display different results."
      ],
      "metadata": {
        "id": "cAxYxScAvNAR"
      }
    }
  ]
}